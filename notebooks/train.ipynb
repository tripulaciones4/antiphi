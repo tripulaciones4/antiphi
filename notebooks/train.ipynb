{
 "cells": [
  {
   "cell_type": "markdown",
   "metadata": {},
   "source": [
    "LIBRARIES"
   ]
  },
  {
   "cell_type": "code",
   "execution_count": 1,
   "metadata": {},
   "outputs": [],
   "source": [
    "from utils.utils import data_preparation, one_hot_encoder, GS_random_forest, rfc_train, rfc_test, prediction_vs_test, plot_confusion_matrix\n",
    "\n",
    "%matplotlib inline"
   ]
  },
  {
   "cell_type": "markdown",
   "metadata": {},
   "source": [
    "LOADING CLEAN DATASET"
   ]
  },
  {
   "cell_type": "markdown",
   "metadata": {},
   "source": [
    "PREPARING DATA TO TRAIN DE MODEL"
   ]
  },
  {
   "cell_type": "markdown",
   "metadata": {},
   "source": [
    "We divide the data into variables (X) and labels (y). "
   ]
  },
  {
   "cell_type": "markdown",
   "metadata": {},
   "source": [
    "Then, we make a **train_test_split** to split the data into the train and test values."
   ]
  },
  {
   "cell_type": "code",
   "execution_count": 2,
   "metadata": {},
   "outputs": [],
   "source": [
    "X_train, X_test, y_train, y_test = data_preparation(df_ubication = '../data/df_api.csv', \n",
    "                                                    label_column_name = 'Result',\n",
    "                                                    test_size_rfc = 0.2, \n",
    "                                                    random_state_rfc = 42, \n",
    "                                                    stratify_rfc=True\n",
    "                                                    )\n",
    "    "
   ]
  },
  {
   "cell_type": "code",
   "execution_count": 4,
   "metadata": {},
   "outputs": [],
   "source": [
    "X_train_onehot, X_test_onehot = one_hot_encoder(ohe_ubication = \"../models/One_Hot_Encoder\", \n",
    "                                                X_train = X_train, \n",
    "                                                X_test = X_test, \n",
    "                                                sparse_ohe = False)"
   ]
  },
  {
   "cell_type": "markdown",
   "metadata": {},
   "source": [
    "RANDOMFOREST CLASSIFIER"
   ]
  },
  {
   "cell_type": "markdown",
   "metadata": {},
   "source": [
    "First, we will make a GridSearch to find the best parameters to create the best prediction model"
   ]
  },
  {
   "cell_type": "code",
   "execution_count": 5,
   "metadata": {},
   "outputs": [
    {
     "name": "stdout",
     "output_type": "stream",
     "text": [
      "{'max_depth': 50, 'max_features': 'log2', 'n_estimators': 500}\n"
     ]
    }
   ],
   "source": [
    "best_params_rfc = GS_random_forest(X_train_onehot, y_train)"
   ]
  },
  {
   "cell_type": "markdown",
   "metadata": {},
   "source": [
    "MODEL TRAINING"
   ]
  },
  {
   "cell_type": "code",
   "execution_count": 6,
   "metadata": {},
   "outputs": [
    {
     "name": "stdout",
     "output_type": "stream",
     "text": [
      "[0.73484937 0.79437542 0.70844824 0.23150833 0.74852883]\n"
     ]
    }
   ],
   "source": [
    "acc_rforest = rfc_train(X_train_onehot, y_train, best_params_rfc, 5, True, 42)"
   ]
  },
  {
   "cell_type": "code",
   "execution_count": 7,
   "metadata": {},
   "outputs": [
    {
     "name": "stdout",
     "output_type": "stream",
     "text": [
      "0.7354138398914518\n"
     ]
    }
   ],
   "source": [
    "accuracy = rfc_test(X_test_onehot, y_test, X_train_onehot, y_train, best_params_rfc, \"../models/web_predictor.model\")"
   ]
  },
  {
   "cell_type": "code",
   "execution_count": 8,
   "metadata": {},
   "outputs": [
    {
     "name": "stdout",
     "output_type": "stream",
     "text": [
      "      y_test  y_pred\n",
      "0          2       2\n",
      "1          2       1\n",
      "2          2       2\n",
      "3          2       1\n",
      "4          1       2\n",
      "...      ...     ...\n",
      "2206       2       2\n",
      "2207       2       2\n",
      "2208       1       1\n",
      "2209       1       1\n",
      "2210       1       1\n",
      "\n",
      "[2211 rows x 2 columns]\n"
     ]
    }
   ],
   "source": [
    "prediction = prediction_vs_test(X_test_onehot, y_test, \"../models/web_predictor.model\")"
   ]
  },
  {
   "cell_type": "markdown",
   "metadata": {},
   "source": [
    "CONFUSION MATRIX"
   ]
  },
  {
   "cell_type": "code",
   "execution_count": 9,
   "metadata": {},
   "outputs": [
    {
     "data": {
      "image/png": "[encoded data removed]",
      "text/plain": [
       "<Figure size 432x288 with 2 Axes>"
      ]
     },
     "metadata": {
      "needs_background": "light"
     },
     "output_type": "display_data"
    }
   ],
   "source": [
    "plot_confusion_matrix(y_test, \"../models/web_predictor.model\", X_test_onehot)"
   ]
  },
  {
   "cell_type": "code",
   "execution_count": null,
   "metadata": {},
   "outputs": [],
   "source": []
  }
 ],
 "metadata": {
  "interpreter": {
   "hash": "77eae0d149ba61c2d600661d89f90b4aa2630fec4556ce7a67e67a981106c5c1"
  },
  "kernelspec": {
   "display_name": "Python 3.9.2 64-bit",
   "language": "python",
   "name": "python3"
  },
  "language_info": {
   "codemirror_mode": {
    "name": "ipython",
    "version": 3
   },
   "file_extension": ".py",
   "mimetype": "text/x-python",
   "name": "python",
   "nbconvert_exporter": "python",
   "pygments_lexer": "ipython3",
   "version": "3.9.2"
  },
  "orig_nbformat": 4
 },
 "nbformat": 4,
 "nbformat_minor": 2
}
